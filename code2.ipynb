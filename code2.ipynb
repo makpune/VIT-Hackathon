{
 "cells": [
  {
   "cell_type": "code",
   "execution_count": 1,
   "metadata": {},
   "outputs": [],
   "source": [
    "import numpy as np\n",
    "import pandas as pd\n",
    "import matplotlib.pyplot as plt\n",
    "%matplotlib inline\n",
    "import seaborn as sns"
   ]
  },
  {
   "cell_type": "code",
   "execution_count": 2,
   "metadata": {},
   "outputs": [],
   "source": [
    "covid=pd.read_csv('covid_statewise.csv')"
   ]
  },
  {
   "cell_type": "code",
   "execution_count": 3,
   "metadata": {},
   "outputs": [],
   "source": [
    "worker=pd.read_csv('worker2001.csv')"
   ]
  },
  {
   "cell_type": "code",
   "execution_count": 4,
   "metadata": {},
   "outputs": [],
   "source": [
    "production=pd.read_csv('Agrihectare_govt.csv')"
   ]
  },
  {
   "cell_type": "code",
   "execution_count": 5,
   "metadata": {},
   "outputs": [],
   "source": [
    "density = pd.read_csv('population_density.csv')"
   ]
  },
  {
   "cell_type": "code",
   "execution_count": 6,
   "metadata": {},
   "outputs": [],
   "source": [
    "covid1 = pd.DataFrame(columns=['State/UT', 'Active'])"
   ]
  },
  {
   "cell_type": "code",
   "execution_count": 7,
   "metadata": {},
   "outputs": [],
   "source": [
    "l=list(covid['State/UT'])\n",
    "covid1['State/UT']=l"
   ]
  },
  {
   "cell_type": "code",
   "execution_count": 8,
   "metadata": {
    "scrolled": true
   },
   "outputs": [],
   "source": [
    "l=list(covid['Active'])\n",
    "for i in range(0,len(l)):\n",
    "    if(l[i]=='-'):\n",
    "        l[i]='0'\n",
    "for i in range(0,len(l)):\n",
    "    temp=l[i].split(',')\n",
    "    y=''.join(temp)\n",
    "    l[i]=int(y)"
   ]
  },
  {
   "cell_type": "code",
   "execution_count": 9,
   "metadata": {},
   "outputs": [],
   "source": [
    "covid1['Active covid cases']=l"
   ]
  },
  {
   "cell_type": "code",
   "execution_count": 10,
   "metadata": {},
   "outputs": [],
   "source": [
    "covid1.drop(axis=1,index=30,inplace=True)"
   ]
  },
  {
   "cell_type": "code",
   "execution_count": 11,
   "metadata": {},
   "outputs": [],
   "source": [
    "covid1.sort_values(by='State/UT',inplace=True)"
   ]
  },
  {
   "cell_type": "code",
   "execution_count": 12,
   "metadata": {},
   "outputs": [],
   "source": [
    "l=np.arange(1,31)\n",
    "covid1.set_index(l , inplace=True)"
   ]
  },
  {
   "cell_type": "code",
   "execution_count": 13,
   "metadata": {},
   "outputs": [],
   "source": [
    "l=list(worker['migrant worker'])\n",
    "for i in range(0,len(l)):\n",
    "    temp=l[i].split(',')\n",
    "    y=''.join(temp)\n",
    "    l[i]=int(y)"
   ]
  },
  {
   "cell_type": "code",
   "execution_count": 14,
   "metadata": {},
   "outputs": [],
   "source": [
    "covid1['migrant workers']=l"
   ]
  },
  {
   "cell_type": "code",
   "execution_count": 15,
   "metadata": {},
   "outputs": [],
   "source": [
    "l=list(production['total_prod'])"
   ]
  },
  {
   "cell_type": "code",
   "execution_count": 16,
   "metadata": {},
   "outputs": [],
   "source": [
    "covid1['total agri prod,in hectare']=l"
   ]
  },
  {
   "cell_type": "code",
   "execution_count": 17,
   "metadata": {},
   "outputs": [],
   "source": [
    "#covid1.drop(axis=0,columns='Active',inplace=True)"
   ]
  },
  {
   "cell_type": "code",
   "execution_count": 18,
   "metadata": {},
   "outputs": [],
   "source": [
    "l=list(density['Population Density '])"
   ]
  },
  {
   "cell_type": "code",
   "execution_count": 19,
   "metadata": {},
   "outputs": [],
   "source": [
    "covid1['population density']=l"
   ]
  },
  {
   "cell_type": "code",
   "execution_count": 20,
   "metadata": {},
   "outputs": [],
   "source": [
    "covid1.drop(columns='Active',inplace=True)"
   ]
  },
  {
   "cell_type": "code",
   "execution_count": 21,
   "metadata": {},
   "outputs": [],
   "source": [
    "#covid1.to_excel(r'C:\\Users\\user\\HackathonVitBhopal\\code2.ipynb.xlsx', sheet_name='attempt 1', index = False)\n"
   ]
  },
  {
   "cell_type": "code",
   "execution_count": 22,
   "metadata": {},
   "outputs": [],
   "source": [
    "#covid1.columns"
   ]
  },
  {
   "cell_type": "code",
   "execution_count": 23,
   "metadata": {},
   "outputs": [],
   "source": [
    "#covid1['Active covid cases']=covid1['Active covid cases'].apply(int)"
   ]
  },
  {
   "cell_type": "code",
   "execution_count": 24,
   "metadata": {},
   "outputs": [],
   "source": [
    "#covid1['population density'].max()"
   ]
  },
  {
   "cell_type": "code",
   "execution_count": 25,
   "metadata": {},
   "outputs": [],
   "source": [
    "from sklearn.preprocessing import MinMaxScaler"
   ]
  },
  {
   "cell_type": "code",
   "execution_count": 26,
   "metadata": {},
   "outputs": [],
   "source": [
    "scalar1=MinMaxScaler()"
   ]
  },
  {
   "cell_type": "code",
   "execution_count": 27,
   "metadata": {},
   "outputs": [
    {
     "data": {
      "text/plain": [
       "MinMaxScaler(copy=True, feature_range=(0, 1))"
      ]
     },
     "execution_count": 27,
     "metadata": {},
     "output_type": "execute_result"
    }
   ],
   "source": [
    "scalar1.fit(covid1['Active covid cases'].values.reshape(-1,1))"
   ]
  },
  {
   "cell_type": "code",
   "execution_count": 28,
   "metadata": {},
   "outputs": [],
   "source": [
    "covid1['scaled_Active covid cases']=scalar1.transform(covid1['Active covid cases'].values.reshape(-1,1))"
   ]
  },
  {
   "cell_type": "code",
   "execution_count": 29,
   "metadata": {},
   "outputs": [],
   "source": [
    "scalar2=MinMaxScaler()"
   ]
  },
  {
   "cell_type": "code",
   "execution_count": 30,
   "metadata": {},
   "outputs": [
    {
     "data": {
      "text/plain": [
       "MinMaxScaler(copy=True, feature_range=(0, 1))"
      ]
     },
     "execution_count": 30,
     "metadata": {},
     "output_type": "execute_result"
    }
   ],
   "source": [
    "scalar2.fit(covid1['migrant workers'].values.reshape(-1,1))"
   ]
  },
  {
   "cell_type": "code",
   "execution_count": 31,
   "metadata": {},
   "outputs": [],
   "source": [
    "covid1['scaled_migrant workers']=scalar2.transform(covid1['migrant workers'].values.reshape(-1,1))"
   ]
  },
  {
   "cell_type": "code",
   "execution_count": 32,
   "metadata": {},
   "outputs": [],
   "source": [
    "scalar3=MinMaxScaler()"
   ]
  },
  {
   "cell_type": "code",
   "execution_count": 33,
   "metadata": {},
   "outputs": [
    {
     "data": {
      "text/plain": [
       "MinMaxScaler(copy=True, feature_range=(0, 1))"
      ]
     },
     "execution_count": 33,
     "metadata": {},
     "output_type": "execute_result"
    }
   ],
   "source": [
    "scalar3.fit(covid1['total agri prod,in hectare'].values.reshape(-1,1))"
   ]
  },
  {
   "cell_type": "code",
   "execution_count": 34,
   "metadata": {},
   "outputs": [],
   "source": [
    "covid1['scaled_total agri prod,in hectare']=scalar3.transform(covid1['total agri prod,in hectare'].values.reshape(-1,1))"
   ]
  },
  {
   "cell_type": "code",
   "execution_count": 35,
   "metadata": {},
   "outputs": [],
   "source": [
    "scalar4=MinMaxScaler()"
   ]
  },
  {
   "cell_type": "code",
   "execution_count": 36,
   "metadata": {},
   "outputs": [
    {
     "data": {
      "text/plain": [
       "MinMaxScaler(copy=True, feature_range=(0, 1))"
      ]
     },
     "execution_count": 36,
     "metadata": {},
     "output_type": "execute_result"
    }
   ],
   "source": [
    "scalar4.fit(covid1['population density'].values.reshape(-1,1))"
   ]
  },
  {
   "cell_type": "code",
   "execution_count": 37,
   "metadata": {},
   "outputs": [],
   "source": [
    "covid1['scaled_population density']=scalar4.transform(covid1['population density'].values.reshape(-1,1))"
   ]
  },
  {
   "cell_type": "code",
   "execution_count": 38,
   "metadata": {
    "scrolled": true
   },
   "outputs": [
    {
     "data": {
      "text/html": [
       "<div>\n",
       "<style scoped>\n",
       "    .dataframe tbody tr th:only-of-type {\n",
       "        vertical-align: middle;\n",
       "    }\n",
       "\n",
       "    .dataframe tbody tr th {\n",
       "        vertical-align: top;\n",
       "    }\n",
       "\n",
       "    .dataframe thead th {\n",
       "        text-align: right;\n",
       "    }\n",
       "</style>\n",
       "<table border=\"1\" class=\"dataframe\">\n",
       "  <thead>\n",
       "    <tr style=\"text-align: right;\">\n",
       "      <th></th>\n",
       "      <th>State/UT</th>\n",
       "      <th>Active covid cases</th>\n",
       "      <th>migrant workers</th>\n",
       "      <th>total agri prod,in hectare</th>\n",
       "      <th>population density</th>\n",
       "      <th>scaled_Active covid cases</th>\n",
       "      <th>scaled_migrant workers</th>\n",
       "      <th>scaled_total agri prod,in hectare</th>\n",
       "      <th>scaled_population density</th>\n",
       "    </tr>\n",
       "  </thead>\n",
       "  <tbody>\n",
       "    <tr>\n",
       "      <td>1</td>\n",
       "      <td>Andaman and Nicobar Islands</td>\n",
       "      <td>18</td>\n",
       "      <td>87224</td>\n",
       "      <td>21856</td>\n",
       "      <td>46</td>\n",
       "      <td>0.002390</td>\n",
       "      <td>0.000000</td>\n",
       "      <td>0.000990</td>\n",
       "      <td>0.002566</td>\n",
       "    </tr>\n",
       "    <tr>\n",
       "      <td>2</td>\n",
       "      <td>Andhra Pradesh</td>\n",
       "      <td>1580</td>\n",
       "      <td>12202795</td>\n",
       "      <td>14293266</td>\n",
       "      <td>307</td>\n",
       "      <td>0.209827</td>\n",
       "      <td>0.588195</td>\n",
       "      <td>0.676231</td>\n",
       "      <td>0.025657</td>\n",
       "    </tr>\n",
       "    <tr>\n",
       "      <td>3</td>\n",
       "      <td>Arunachal Pradesh</td>\n",
       "      <td>0</td>\n",
       "      <td>225768</td>\n",
       "      <td>383872</td>\n",
       "      <td>17</td>\n",
       "      <td>0.000000</td>\n",
       "      <td>0.006726</td>\n",
       "      <td>0.018119</td>\n",
       "      <td>0.000000</td>\n",
       "    </tr>\n",
       "    <tr>\n",
       "      <td>4</td>\n",
       "      <td>Assam</td>\n",
       "      <td>10</td>\n",
       "      <td>2967253</td>\n",
       "      <td>2999070</td>\n",
       "      <td>398</td>\n",
       "      <td>0.001328</td>\n",
       "      <td>0.139822</td>\n",
       "      <td>0.141855</td>\n",
       "      <td>0.033708</td>\n",
       "    </tr>\n",
       "    <tr>\n",
       "      <td>5</td>\n",
       "      <td>Bihar</td>\n",
       "      <td>300</td>\n",
       "      <td>7201618</td>\n",
       "      <td>6387561</td>\n",
       "      <td>1106</td>\n",
       "      <td>0.039841</td>\n",
       "      <td>0.345394</td>\n",
       "      <td>0.302179</td>\n",
       "      <td>0.096346</td>\n",
       "    </tr>\n",
       "  </tbody>\n",
       "</table>\n",
       "</div>"
      ],
      "text/plain": [
       "                      State/UT  Active covid cases  migrant workers  \\\n",
       "1  Andaman and Nicobar Islands                  18            87224   \n",
       "2               Andhra Pradesh                1580         12202795   \n",
       "3            Arunachal Pradesh                   0           225768   \n",
       "4                        Assam                  10          2967253   \n",
       "5                        Bihar                 300          7201618   \n",
       "\n",
       "   total agri prod,in hectare  population density  scaled_Active covid cases  \\\n",
       "1                       21856                  46                   0.002390   \n",
       "2                    14293266                 307                   0.209827   \n",
       "3                      383872                  17                   0.000000   \n",
       "4                     2999070                 398                   0.001328   \n",
       "5                     6387561                1106                   0.039841   \n",
       "\n",
       "   scaled_migrant workers  scaled_total agri prod,in hectare  \\\n",
       "1                0.000000                           0.000990   \n",
       "2                0.588195                           0.676231   \n",
       "3                0.006726                           0.018119   \n",
       "4                0.139822                           0.141855   \n",
       "5                0.345394                           0.302179   \n",
       "\n",
       "   scaled_population density  \n",
       "1                   0.002566  \n",
       "2                   0.025657  \n",
       "3                   0.000000  \n",
       "4                   0.033708  \n",
       "5                   0.096346  "
      ]
     },
     "execution_count": 38,
     "metadata": {},
     "output_type": "execute_result"
    }
   ],
   "source": [
    "covid1.head()"
   ]
  },
  {
   "cell_type": "code",
   "execution_count": 39,
   "metadata": {},
   "outputs": [],
   "source": [
    "final=[]\n",
    "for i in range(1,31):\n",
    "    sum=covid1['scaled_Active covid cases'][i]+covid1['scaled_migrant workers'][i]+covid1['scaled_total agri prod,in hectare'][i]+covid1['scaled_population density'][i]\n",
    "    factor=850\n",
    "    sum=sum*850\n",
    "    final.append(int(sum))"
   ]
  },
  {
   "cell_type": "code",
   "execution_count": 40,
   "metadata": {},
   "outputs": [],
   "source": [
    "covid1['Food Banks']=final"
   ]
  },
  {
   "cell_type": "code",
   "execution_count": 41,
   "metadata": {},
   "outputs": [
    {
     "data": {
      "text/html": [
       "<div>\n",
       "<style scoped>\n",
       "    .dataframe tbody tr th:only-of-type {\n",
       "        vertical-align: middle;\n",
       "    }\n",
       "\n",
       "    .dataframe tbody tr th {\n",
       "        vertical-align: top;\n",
       "    }\n",
       "\n",
       "    .dataframe thead th {\n",
       "        text-align: right;\n",
       "    }\n",
       "</style>\n",
       "<table border=\"1\" class=\"dataframe\">\n",
       "  <thead>\n",
       "    <tr style=\"text-align: right;\">\n",
       "      <th></th>\n",
       "      <th>State/UT</th>\n",
       "      <th>Active covid cases</th>\n",
       "      <th>migrant workers</th>\n",
       "      <th>total agri prod,in hectare</th>\n",
       "      <th>population density</th>\n",
       "      <th>scaled_Active covid cases</th>\n",
       "      <th>scaled_migrant workers</th>\n",
       "      <th>scaled_total agri prod,in hectare</th>\n",
       "      <th>scaled_population density</th>\n",
       "      <th>Food Banks</th>\n",
       "    </tr>\n",
       "  </thead>\n",
       "  <tbody>\n",
       "    <tr>\n",
       "      <td>1</td>\n",
       "      <td>Andaman and Nicobar Islands</td>\n",
       "      <td>18</td>\n",
       "      <td>87224</td>\n",
       "      <td>21856</td>\n",
       "      <td>46</td>\n",
       "      <td>0.002390</td>\n",
       "      <td>0.000000</td>\n",
       "      <td>0.000990</td>\n",
       "      <td>0.002566</td>\n",
       "      <td>5</td>\n",
       "    </tr>\n",
       "    <tr>\n",
       "      <td>2</td>\n",
       "      <td>Andhra Pradesh</td>\n",
       "      <td>1580</td>\n",
       "      <td>12202795</td>\n",
       "      <td>14293266</td>\n",
       "      <td>307</td>\n",
       "      <td>0.209827</td>\n",
       "      <td>0.588195</td>\n",
       "      <td>0.676231</td>\n",
       "      <td>0.025657</td>\n",
       "      <td>1274</td>\n",
       "    </tr>\n",
       "    <tr>\n",
       "      <td>3</td>\n",
       "      <td>Arunachal Pradesh</td>\n",
       "      <td>0</td>\n",
       "      <td>225768</td>\n",
       "      <td>383872</td>\n",
       "      <td>17</td>\n",
       "      <td>0.000000</td>\n",
       "      <td>0.006726</td>\n",
       "      <td>0.018119</td>\n",
       "      <td>0.000000</td>\n",
       "      <td>21</td>\n",
       "    </tr>\n",
       "    <tr>\n",
       "      <td>4</td>\n",
       "      <td>Assam</td>\n",
       "      <td>10</td>\n",
       "      <td>2967253</td>\n",
       "      <td>2999070</td>\n",
       "      <td>398</td>\n",
       "      <td>0.001328</td>\n",
       "      <td>0.139822</td>\n",
       "      <td>0.141855</td>\n",
       "      <td>0.033708</td>\n",
       "      <td>269</td>\n",
       "    </tr>\n",
       "    <tr>\n",
       "      <td>5</td>\n",
       "      <td>Bihar</td>\n",
       "      <td>300</td>\n",
       "      <td>7201618</td>\n",
       "      <td>6387561</td>\n",
       "      <td>1106</td>\n",
       "      <td>0.039841</td>\n",
       "      <td>0.345394</td>\n",
       "      <td>0.302179</td>\n",
       "      <td>0.096346</td>\n",
       "      <td>666</td>\n",
       "    </tr>\n",
       "  </tbody>\n",
       "</table>\n",
       "</div>"
      ],
      "text/plain": [
       "                      State/UT  Active covid cases  migrant workers  \\\n",
       "1  Andaman and Nicobar Islands                  18            87224   \n",
       "2               Andhra Pradesh                1580         12202795   \n",
       "3            Arunachal Pradesh                   0           225768   \n",
       "4                        Assam                  10          2967253   \n",
       "5                        Bihar                 300          7201618   \n",
       "\n",
       "   total agri prod,in hectare  population density  scaled_Active covid cases  \\\n",
       "1                       21856                  46                   0.002390   \n",
       "2                    14293266                 307                   0.209827   \n",
       "3                      383872                  17                   0.000000   \n",
       "4                     2999070                 398                   0.001328   \n",
       "5                     6387561                1106                   0.039841   \n",
       "\n",
       "   scaled_migrant workers  scaled_total agri prod,in hectare  \\\n",
       "1                0.000000                           0.000990   \n",
       "2                0.588195                           0.676231   \n",
       "3                0.006726                           0.018119   \n",
       "4                0.139822                           0.141855   \n",
       "5                0.345394                           0.302179   \n",
       "\n",
       "   scaled_population density  Food Banks  \n",
       "1                   0.002566           5  \n",
       "2                   0.025657        1274  \n",
       "3                   0.000000          21  \n",
       "4                   0.033708         269  \n",
       "5                   0.096346         666  "
      ]
     },
     "execution_count": 41,
     "metadata": {},
     "output_type": "execute_result"
    }
   ],
   "source": [
    "covid1.head()"
   ]
  },
  {
   "cell_type": "code",
   "execution_count": 42,
   "metadata": {},
   "outputs": [],
   "source": [
    "covid1.to_excel(r'final2.xlsx', sheet_name='final', index = False)\n"
   ]
  },
  {
   "cell_type": "code",
   "execution_count": 43,
   "metadata": {},
   "outputs": [],
   "source": [
    "covid1.to_csv(r'finalcsv.csv',index = False)"
   ]
  },
  {
   "cell_type": "code",
   "execution_count": 44,
   "metadata": {},
   "outputs": [],
   "source": [
    "food_Bank = pd.DataFrame(columns=['State/UT', 'Food bank'])"
   ]
  },
  {
   "cell_type": "code",
   "execution_count": 45,
   "metadata": {},
   "outputs": [],
   "source": [
    "l1=list(covid1['State/UT'])\n",
    "food_Bank['State/UT']=l1"
   ]
  },
  {
   "cell_type": "code",
   "execution_count": 46,
   "metadata": {},
   "outputs": [],
   "source": [
    "l2=list(covid1['Food Banks'])\n",
    "food_Bank['Food bank']=l2"
   ]
  },
  {
   "cell_type": "code",
   "execution_count": 47,
   "metadata": {},
   "outputs": [
    {
     "data": {
      "text/html": [
       "<div>\n",
       "<style scoped>\n",
       "    .dataframe tbody tr th:only-of-type {\n",
       "        vertical-align: middle;\n",
       "    }\n",
       "\n",
       "    .dataframe tbody tr th {\n",
       "        vertical-align: top;\n",
       "    }\n",
       "\n",
       "    .dataframe thead th {\n",
       "        text-align: right;\n",
       "    }\n",
       "</style>\n",
       "<table border=\"1\" class=\"dataframe\">\n",
       "  <thead>\n",
       "    <tr style=\"text-align: right;\">\n",
       "      <th></th>\n",
       "      <th>State/UT</th>\n",
       "      <th>Food bank</th>\n",
       "    </tr>\n",
       "  </thead>\n",
       "  <tbody>\n",
       "    <tr>\n",
       "      <td>0</td>\n",
       "      <td>Andaman and Nicobar Islands</td>\n",
       "      <td>5</td>\n",
       "    </tr>\n",
       "    <tr>\n",
       "      <td>1</td>\n",
       "      <td>Andhra Pradesh</td>\n",
       "      <td>1274</td>\n",
       "    </tr>\n",
       "    <tr>\n",
       "      <td>2</td>\n",
       "      <td>Arunachal Pradesh</td>\n",
       "      <td>21</td>\n",
       "    </tr>\n",
       "    <tr>\n",
       "      <td>3</td>\n",
       "      <td>Assam</td>\n",
       "      <td>269</td>\n",
       "    </tr>\n",
       "    <tr>\n",
       "      <td>4</td>\n",
       "      <td>Bihar</td>\n",
       "      <td>666</td>\n",
       "    </tr>\n",
       "  </tbody>\n",
       "</table>\n",
       "</div>"
      ],
      "text/plain": [
       "                      State/UT  Food bank\n",
       "0  Andaman and Nicobar Islands          5\n",
       "1               Andhra Pradesh       1274\n",
       "2            Arunachal Pradesh         21\n",
       "3                        Assam        269\n",
       "4                        Bihar        666"
      ]
     },
     "execution_count": 47,
     "metadata": {},
     "output_type": "execute_result"
    }
   ],
   "source": [
    "#### This is final result\n",
    "food_Bank.head()"
   ]
  },
  {
   "cell_type": "code",
   "execution_count": 48,
   "metadata": {},
   "outputs": [],
   "source": [
    "food_Bank.to_csv(r'finallastcolcsv.csv',index = False)"
   ]
  },
  {
   "cell_type": "code",
   "execution_count": 49,
   "metadata": {},
   "outputs": [],
   "source": [
    "\n",
    "### G R A P H     P L O T\n"
   ]
  },
  {
   "cell_type": "code",
   "execution_count": 50,
   "metadata": {},
   "outputs": [
    {
     "data": {
      "text/plain": [
       "(array([ 0,  1,  2,  3,  4,  5,  6,  7,  8,  9, 10, 11, 12, 13, 14, 15, 16,\n",
       "        17, 18, 19, 20, 21, 22, 23, 24, 25, 26, 27, 28, 29]),\n",
       " <a list of 30 Text xticklabel objects>)"
      ]
     },
     "execution_count": 50,
     "metadata": {},
     "output_type": "execute_result"
    },
    {
     "data": {
      "image/png": "[encoded data removed]",
      "text/plain": [
       "<Figure size 1080x360 with 1 Axes>"
      ]
     },
     "metadata": {
      "needs_background": "light"
     },
     "output_type": "display_data"
    }
   ],
   "source": [
    "sns.catplot(x='State/UT',y='Food Banks',kind= 'bar',data=covid1,aspect=3,margin_titles=True)\n",
    "plt.xticks(rotation=90)"
   ]
  },
  {
   "cell_type": "code",
   "execution_count": null,
   "metadata": {},
   "outputs": [],
   "source": []
  },
  {
   "cell_type": "code",
   "execution_count": 51,
   "metadata": {},
   "outputs": [],
   "source": [
    "#covid1[].plot.pie(subplots=True,figsize=(13,13))"
   ]
  },
  {
   "cell_type": "code",
   "execution_count": null,
   "metadata": {},
   "outputs": [],
   "source": []
  }
 ],
 "metadata": {
  "kernelspec": {
   "display_name": "Python 3",
   "language": "python",
   "name": "python3"
  },
  "language_info": {
   "codemirror_mode": {
    "name": "ipython",
    "version": 3
   },
   "file_extension": ".py",
   "mimetype": "text/x-python",
   "name": "python",
   "nbconvert_exporter": "python",
   "pygments_lexer": "ipython3",
   "version": "3.7.4"
  }
 },
 "nbformat": 4,
 "nbformat_minor": 2
}
